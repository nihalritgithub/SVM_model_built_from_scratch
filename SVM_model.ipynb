{
  "nbformat": 4,
  "nbformat_minor": 0,
  "metadata": {
    "colab": {
      "provenance": [],
      "authorship_tag": "ABX9TyM/f5WoPi+n4Dvc5X37NECX",
      "include_colab_link": true
    },
    "kernelspec": {
      "name": "python3",
      "display_name": "Python 3"
    },
    "language_info": {
      "name": "python"
    }
  },
  "cells": [
    {
      "cell_type": "markdown",
      "metadata": {
        "id": "view-in-github",
        "colab_type": "text"
      },
      "source": [
        "<a href=\"https://colab.research.google.com/github/nihalritgithub/SVM_model_built_from_scratch/blob/main/SVM_model.ipynb\" target=\"_parent\"><img src=\"https://colab.research.google.com/assets/colab-badge.svg\" alt=\"Open In Colab\"/></a>"
      ]
    },
    {
      "cell_type": "code",
      "execution_count": 1,
      "metadata": {
        "id": "iZWg3rhf2qLN"
      },
      "outputs": [],
      "source": [
        "import numpy as np\n",
        "\n",
        "class SVM_classifier():\n",
        "  def __init__(self,learning_rate,noofitteration,lambda_parameter):\n",
        "    self.learning_rate=learning_rate\n",
        "    self.noofitteration=noofitteration\n",
        "    self.lambda_parameter=lambda_parameter\n",
        "  def fit(self,X,Y):\n",
        "    self.m,self.n=X.shape\n",
        "    self.w=np.zeros(self.n)\n",
        "    self.b=0\n",
        "    self.X=X\n",
        "    self.Y=Y\n",
        "    for i in range(self.noofitteration):\n",
        "      self.update_weights()\n",
        "  def update_weights(self):\n",
        "    y_label=np.where(self.Y<=0,-1,1)\n",
        "    for index,x_i in enumerate(self.X):\n",
        "      condition=y_label[index]*(np.dot(x_i,self.w)-self.b) >= 1\n",
        "      if(condition==True):\n",
        "        dw=2*self.lambda_parameter*self.w\n",
        "        db=0\n",
        "      else:\n",
        "        dw=2*self.lambda_parameter*self.w-np.dot(x_i,y_label[index])\n",
        "        db=y_label[index]\n",
        "      self.w=self.w-self.learning_rate*dw\n",
        "      self.b=self.b-self.learning_rate*db\n",
        "  def predict(self,X):\n",
        "    output=np.dot(X,self.w)-self.b\n",
        "    predicted_labels=np.sign(output)\n",
        "    y_hat=np.where(predicted_labels<=1,0,1)\n",
        "    return y_hat\n"
      ]
    },
    {
      "cell_type": "code",
      "source": [],
      "metadata": {
        "id": "0Irhqr8M2unc"
      },
      "execution_count": null,
      "outputs": []
    }
  ]
}